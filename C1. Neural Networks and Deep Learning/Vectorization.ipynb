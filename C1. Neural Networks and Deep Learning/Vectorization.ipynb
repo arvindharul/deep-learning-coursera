{
 "cells": [
  {
   "cell_type": "code",
   "execution_count": 2,
   "id": "eaa64bbe",
   "metadata": {},
   "outputs": [],
   "source": [
    "import numpy as np\n",
    "import time"
   ]
  },
  {
   "cell_type": "code",
   "execution_count": 11,
   "id": "785fd8a0",
   "metadata": {},
   "outputs": [],
   "source": [
    "#rand(d0, d1, ..., dn)\n",
    "#Random values in a given shape.\n",
    "\n",
    "a = np.random.rand(1000000)\n",
    "b = np.random.rand(1000000)"
   ]
  },
  {
   "cell_type": "code",
   "execution_count": 15,
   "id": "215680ac",
   "metadata": {},
   "outputs": [
    {
     "name": "stdout",
     "output_type": "stream",
     "text": [
      "250086.95362151222\n",
      "Vectorized Version: 2.2978782653808594 ms\n",
      "250086.95362152168\n",
      "For Loop: 570.0840950012207 ms\n"
     ]
    }
   ],
   "source": [
    "start_time = time.time()\n",
    "c = np.dot(a,b)\n",
    "end_time = time.time()\n",
    "\n",
    "print(c)\n",
    "print('Vectorized Version:',str(1000*(end_time-start_time)),'ms')\n",
    "\n",
    "start_time = time.time()\n",
    "c = 0\n",
    "for i in range(1000000):\n",
    "    c+= a[i]*b[i]\n",
    "end_time = time.time()\n",
    "\n",
    "print(c)\n",
    "print('For Loop:',str(1000*(end_time-start_time)),'ms')"
   ]
  },
  {
   "cell_type": "code",
   "execution_count": null,
   "id": "b5c50f68",
   "metadata": {},
   "outputs": [],
   "source": []
  }
 ],
 "metadata": {
  "kernelspec": {
   "display_name": "Python 3 (ipykernel)",
   "language": "python",
   "name": "python3"
  },
  "language_info": {
   "codemirror_mode": {
    "name": "ipython",
    "version": 3
   },
   "file_extension": ".py",
   "mimetype": "text/x-python",
   "name": "python",
   "nbconvert_exporter": "python",
   "pygments_lexer": "ipython3",
   "version": "3.8.2"
  }
 },
 "nbformat": 4,
 "nbformat_minor": 5
}
